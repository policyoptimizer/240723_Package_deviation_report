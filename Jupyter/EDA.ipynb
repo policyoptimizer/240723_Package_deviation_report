{
 "cells": [
  {
   "cell_type": "markdown",
   "metadata": {},
   "source": [
    "# 엑셀 로드"
   ]
  },
  {
   "cell_type": "code",
   "execution_count": 11,
   "metadata": {},
   "outputs": [
    {
     "name": "stdout",
     "output_type": "stream",
     "text": [
      "Populating the interactive namespace from numpy and matplotlib\n"
     ]
    }
   ],
   "source": [
    "%pylab inline"
   ]
  },
  {
   "cell_type": "code",
   "execution_count": 12,
   "metadata": {},
   "outputs": [],
   "source": [
    "import dataiku\n",
    "import pandas as pd\n",
    "from io import BytesIO\n",
    "import io"
   ]
  },
  {
   "cell_type": "markdown",
   "metadata": {},
   "source": [
    "## 엑셀 첫 번째 시트만 확인"
   ]
  },
  {
   "cell_type": "code",
   "execution_count": 17,
   "metadata": {},
   "outputs": [
    {
     "name": "stdout",
     "output_type": "stream",
     "text": [
      "/AuthorityDetail_20240828_150025.xlsx\n",
      "/AuthorityDetail_20240828_150116.xlsx\n",
      "/AuthorityDetail_20240828_150131.xlsx\n",
      "/AuthorityDetail_20240903_112924.xlsx\n",
      "/IQMS 불만 내역 추출 예시_jhj.xlsx\n"
     ]
    }
   ],
   "source": [
    "folder = dataiku.Folder(\"iqms\")\n",
    "\n",
    "file_paths = folder.list_paths_in_partition()\n",
    "\n",
    "for file in file_paths:\n",
    "    print(file)"
   ]
  },
  {
   "cell_type": "code",
   "execution_count": 14,
   "metadata": {},
   "outputs": [],
   "source": [
    "dfs = []\n",
    "for file_path in file_paths:\n",
    "    with folder.get_download_stream(file_path) as stream:\n",
    "        df = pd.read_excel(io.BytesIO(stream.read()))\n",
    "        dfs.append(df) # df1, df2, df3 등"
   ]
  },
  {
   "cell_type": "code",
   "execution_count": 22,
   "metadata": {},
   "outputs": [
    {
     "name": "stdout",
     "output_type": "stream",
     "text": [
      "DataFrame 1 Columns: ['상태', 'Unnamed: 1', '부적합번호', '제목', '현재단계', 'QA 검토자', '최종완료일', '작성일', '작성자', '발생일', '발생부서', '제품', '자재코드', '자재유형', '공급자', 'DI체크여부', 'LINE ID', '설비ID', 'ROOM번호', '배치번호', '마감일', 'ActionItem\\n전체 대비 완료 갯수', '저장소', '다음에 의해 잠김', '기타 부적합 유형', '자재 유형', '제품 설명', 'T4_추적 및 트랜드 참고', '근본 원인', '부적합품 후속 처리 계획', '조사 세부사항', 'T5_추적 및 트랜드 참고', '사유', '완료 요약', '후속 조치 유형 기타', '후속 조치 유형', '설명', 'T7_추적 및 트랜드 참고', '후속 조치 완료 여부']\n"
     ]
    }
   ],
   "source": [
    "print(df1.columns.tolist())"
   ]
  },
  {
   "cell_type": "code",
   "execution_count": 23,
   "metadata": {},
   "outputs": [
    {
     "name": "stdout",
     "output_type": "stream",
     "text": [
      "DataFrame 2 Columns: ['상태', 'Unnamed: 1', '고객불만번호', '제목', '현재단계', 'QA 검토자', '최종완료일', '작성일', '작성자', '발생부서', '제품', '자재코드', 'DI체크여부', 'LINE ID', '설비ID', 'ROOM번호', '배치번호', '마감일', 'ActionItem\\n전체 대비 완료 갯수', '제품명', '불만발생일', '수량', '불만클래스', '불만정도', '불만접수일', '불만빈도', '조사담당자의견', '결론', '고객요구사항', '비고']\n"
     ]
    }
   ],
   "source": [
    "print(df2.columns.tolist())"
   ]
  },
  {
   "cell_type": "code",
   "execution_count": 24,
   "metadata": {},
   "outputs": [
    {
     "name": "stdout",
     "output_type": "stream",
     "text": [
      "DataFrame 3 Columns: ['상태', 'Unnamed: 1', '일탈번호', '일탈등급', '제목', '현재단계', 'QA 검토자', '작성일', '승인일', '최종완료일', '작성자', '발생부서', '제품', '자재코드', 'DI체크여부', 'LINE ID', '설비ID', 'ROOM번호', '배치번호', '마감일', 'ActionItem\\n전체 대비 완료 갯수', 'Action Item Task Owner', '일탈기준', '일탈내용', 'IssueReview', '기타원인', '기타조사세부사항', '원자재결함', '원자재결함내용', '작업자오류', '작업자오류내용', '장비결함', '장비결함내용', '절차결함', '절차결함내용', '제품영향평가', '제품영향남아있음', '초기원인']\n"
     ]
    }
   ],
   "source": [
    "print(df3.columns.tolist())"
   ]
  },
  {
   "cell_type": "code",
   "execution_count": 10,
   "metadata": {},
   "outputs": [
    {
     "name": "stdout",
     "output_type": "stream",
     "text": [
      "DataFrame 3 Columns: ['상태', 'Unnamed: 1', '일탈번호', '일탈등급', '제목', '현재단계', 'QA 검토자', '작성일', '승인일', '최종완료일', '작성자', '발생부서', '제품', '자재코드', 'DI체크여부', 'LINE ID', '설비ID', 'ROOM번호', '배치번호', '마감일', 'ActionItem\\n전체 대비 완료 갯수', 'Action Item Task Owner', '일탈기준', '일탈내용', 'IssueReview', '기타원인', '기타조사세부사항', '원자재결함', '원자재결함내용', '작업자오류', '작업자오류내용', '장비결함', '장비결함내용', '절차결함', '절차결함내용', '제품영향평가', '제품영향남아있음', '초기원인']\n"
     ]
    }
   ],
   "source": [
    "# 일탈 칼럼 리스트\n",
    "print(\"DataFrame 3 Columns:\", df3.columns.tolist())"
   ]
  },
  {
   "cell_type": "code",
   "execution_count": 9,
   "metadata": {},
   "outputs": [
    {
     "name": "stdout",
     "output_type": "stream",
     "text": [
      "DataFrame 4 Columns: ['상태', 'Unnamed: 1', '고객불만번호', '제목', '현재단계', 'QA 검토자', '최종완료일', '작성일', '작성자', '발생부서', '제품', '자재코드', 'DI체크여부', 'LINE ID', '설비ID', 'ROOM번호', '배치번호', '마감일', 'ActionItem\\n전체 대비 완료 갯수', '제품명', '불만발생일', '수량', '불만클래스', '불만정도', '불만접수일', '불만빈도', '조사담당자의견', '결론', '고객요구사항', '비고']\n"
     ]
    }
   ],
   "source": [
    "# 고객불만 칼럼 리스트\n",
    "print(\"DataFrame 4 Columns:\", df4.columns.tolist())"
   ]
  },
  {
   "cell_type": "code",
   "execution_count": 11,
   "metadata": {},
   "outputs": [
    {
     "name": "stdout",
     "output_type": "stream",
     "text": [
      "칼럼 수: 38\n"
     ]
    }
   ],
   "source": [
    "num_columns = len(df3.columns)\n",
    "print(f\"칼럼 수: {num_columns}\")"
   ]
  },
  {
   "cell_type": "code",
   "execution_count": 12,
   "metadata": {},
   "outputs": [
    {
     "name": "stdout",
     "output_type": "stream",
     "text": [
      "칼럼 수: 30\n"
     ]
    }
   ],
   "source": [
    "num_columns = len(df4.columns)\n",
    "print(f\"칼럼 수: {num_columns}\")"
   ]
  },
  {
   "cell_type": "markdown",
   "metadata": {},
   "source": [
    "# 엑셀의 모든 시트 로드"
   ]
  },
  {
   "cell_type": "code",
   "execution_count": 3,
   "metadata": {},
   "outputs": [
    {
     "name": "stdout",
     "output_type": "stream",
     "text": [
      "/■ 표시자재관련 DB화 Master File_20240830.xlsx\n",
      "/■ 표시자재관련 DB화 Master File_20240830_CQM.xlsx\n",
      "/■ 표시자재관련 DB화 Master File_20240830_CQM_JNE.xlsx\n"
     ]
    }
   ],
   "source": [
    "folder = dataiku.Folder(\"excel template\")\n",
    "\n",
    "file_paths = folder.list_paths_in_partition()\n",
    "\n",
    "for file in file_paths:\n",
    "    print(file)"
   ]
  },
  {
   "cell_type": "code",
   "execution_count": 25,
   "metadata": {},
   "outputs": [],
   "source": [
    "# 모든 파일의 모든 시트를 읽어서 딕셔너리로 저장\n",
    "dfs = {}\n",
    "for file_path in file_paths:\n",
    "    # 파일 이름 추출 (필요시 경로의 마지막 부분만 사용)\n",
    "    file_name = file_path.split('/')[-1]\n",
    "   \n",
    "    with folder.get_download_stream(file_path) as stream:\n",
    "        # 전체 엑셀 파일을 읽어서 모든 시트를 가져옴\n",
    "        excel_sheets = pd.read_excel(io.BytesIO(stream.read()), sheet_name=None)\n",
    "       \n",
    "        # 시트별로 DataFrame을 딕셔너리에 추가\n",
    "        for sheet_name, df in excel_sheets.items():\n",
    "            # 딕셔너리의 키는 \"파일이름_시트이름\" 형태로 지정\n",
    "            dfs[f'{file_name}_{sheet_name}'] = df"
   ]
  },
  {
   "cell_type": "code",
   "execution_count": 21,
   "metadata": {},
   "outputs": [],
   "source": [
    "# AuthorityDetail_20240903_112924.xlsx\n",
    "# AuthorityDetail_20240828_150025.xlsx\n",
    "# AuthorityDetail_20240828_150116.xlsx\n",
    "# AuthorityDetail_20240828_150131.xlsx\n",
    "# IQMS 불만 내역 추출 예시_jhj.xlsx\n",
    "\n",
    "df1 = dfs['AuthorityDetail_20240903_112924.xlsx_Sheet1']\n",
    "df2 = dfs['AuthorityDetail_20240828_150025.xlsx_Sheet1']\n",
    "df3 = dfs['AuthorityDetail_20240828_150116.xlsx_Sheet1']\n",
    "df4 = dfs['AuthorityDetail_20240828_150131.xlsx_Sheet1']\n",
    "df5 = dfs['IQMS 불만 내역 추출 예시_jhj.xlsx_Sheet1']"
   ]
  },
  {
   "cell_type": "code",
   "execution_count": 32,
   "metadata": {},
   "outputs": [
    {
     "name": "stdout",
     "output_type": "stream",
     "text": [
      "    일탈항목▶   상태  Unnamed: 2  일탈번호   제목  현재단계  QA 검토자  최종완료일  작성일  작성자  발생부서   제품  자재코드  DI체크여부  LINE ID  설비ID  ROOM번호  배치번호  마감일  ActionItem\\n전체 대비 완료 갯수 일탈등급 Action Item Task Owner 일탈기준   일탈내용 IssueReview       기타원인 기타조사세부사항    원자재결함         원자재결함내용   작업자오류        작업자오류내용     장비결함          장비결함내용 절차결함 절차결함내용       제품영향평가  제품영향남아있음 초기원인             승인일  Unnamed: 39  Unnamed: 40  Unnamed: 41                 Unnamed: 42\n",
      "0   고객불만▶   상태         NaN  일탈번호   제목  현재단계  QA 검토자  최종완료일  작성일  작성자  발생부서   제품  자재코드  DI체크여부  LINE ID  설비ID  ROOM번호  배치번호  마감일  ActionItem\\n전체 대비 완료 갯수  제품명                  불만발생일   수량  불만클래스        불만정도      불만접수일     불만빈도  조사담당자의견              결론  고객요구사항             비고      NaN             NaN  NaN    NaN          NaN       NaN  NaN             NaN          NaN          NaN          NaN  DB화에 필요한 정보들 각 항목별로 기재해주세요\n",
      "1  부적합  ▶   상태         NaN  일탈번호   제목  현재단계  QA 검토자  최종완료일  작성일  작성자  발생부서   제품  자재코드  DI체크여부  LINE ID  설비ID  ROOM번호  배치번호  마감일  ActionItem\\n전체 대비 완료 갯수  발생일                   자재유형  공급자    저장소   다음에 의해 잠김  기타 부적합 유형    자재 유형    제품 설명  T4_추적 및 트랜드 참고   근본 원인  부적합품 후속 처리 계획  조사 세부사항  T5_추적 및 트랜드 참고   사유  완료 요약  후속 조치 유형 기타  후속 조치 유형   설명  T7_추적 및 트랜드 참고  후속 조치 완료 여부          NaN          NaN                         NaN\n",
      "2    공통항목   상태         NaN    번호   제목  현재단계  QA 검토자  최종완료일  작성일  작성자  발생부서   제품  자재코드  DI체크여부  LINE ID  설비ID  ROOM번호  배치번호  마감일  ActionItem\\n전체 대비 완료 갯수  NaN                    NaN  NaN    NaN         NaN        NaN      NaN      NaN             NaN     NaN            NaN      NaN             NaN  NaN    NaN          NaN       NaN  NaN             NaN          NaN          NaN          NaN                         NaN\n",
      "3     NaN  NaN         NaN   NaN  NaN   NaN     NaN    NaN  NaN  NaN   NaN  NaN   NaN     NaN      NaN   NaN     NaN   NaN  NaN                      NaN  NaN                    NaN  NaN    NaN         NaN        NaN      NaN      NaN             NaN     NaN            NaN      NaN             NaN  NaN    NaN          NaN       NaN  NaN             NaN          NaN          NaN          NaN                         NaN\n",
      "4     NaN  NaN         NaN   NaN  NaN   NaN     NaN    NaN  NaN  NaN   NaN  NaN   NaN     NaN      NaN   NaN     NaN   NaN  NaN                      NaN  NaN                    NaN  NaN    NaN         NaN        NaN      NaN      NaN             NaN     NaN            NaN      NaN             NaN  NaN    NaN          NaN       NaN  NaN             NaN          NaN          NaN          NaN                         NaN\n"
     ]
    }
   ],
   "source": [
    "# /■ 표시자재관련 DB화 Master File_20240830.xlsx\n",
    "# /■ 표시자재관련 DB화 Master File_20240830_CQM.xlsx\n",
    "# /■ 표시자재관련 DB화 Master File_20240830_CQM_JNE.xlsx\n",
    "\n",
    "# 특정 엑셀 파일의 특정 시트를 가져오려면\n",
    "# 예를 들어 'example.xlsx' 파일의 'Sheet1' 시트를 가져오고 싶다면:\n",
    "df11 = dfs['■ 표시자재관련 DB화 Master File_20240830.xlsx_Sheet1']\n",
    "\n",
    "df21 = dfs['■ 표시자재관련 DB화 Master File_20240830_CQM.xlsx_Sheet1']\n",
    "df22 = dfs['■ 표시자재관련 DB화 Master File_20240830_CQM.xlsx_Sheet2']\n",
    "\n",
    "df31 = dfs['■ 표시자재관련 DB화 Master File_20240830_CQM_JNE.xlsx_Sheet1']\n",
    "df32 = dfs['■ 표시자재관련 DB화 Master File_20240830_CQM_JNE.xlsx_Sheet2']\n",
    "df33 = dfs['■ 표시자재관련 DB화 Master File_20240830_CQM_JNE.xlsx_Sheet3']\n",
    "\n",
    "# 특정 DataFrame 출력\n",
    "print(df1.head())"
   ]
  },
  {
   "cell_type": "code",
   "execution_count": 28,
   "metadata": {},
   "outputs": [
    {
     "name": "stdout",
     "output_type": "stream",
     "text": [
      "Sheet name: Sheet1\n",
      "    일탈항목▶  상태  Unnamed: 2  일탈번호  제목  현재단계  QA 검토자  최종완료일  작성일  작성자  발생부서  제품  자재코드  DI체크여부  LINE ID  설비ID  ROOM번호  배치번호  마감일  ActionItem\\n전체 대비 완료 갯수 일탈등급 Action Item Task Owner 일탈기준   일탈내용 IssueReview       기타원인 기타조사세부사항    원자재결함         원자재결함내용   작업자오류        작업자오류내용     장비결함          장비결함내용 절차결함 절차결함내용       제품영향평가  제품영향남아있음 초기원인             승인일  Unnamed: 39  Unnamed: 40  Unnamed: 41                 Unnamed: 42\n",
      "0   고객불만▶  상태         NaN  일탈번호  제목  현재단계  QA 검토자  최종완료일  작성일  작성자  발생부서  제품  자재코드  DI체크여부  LINE ID  설비ID  ROOM번호  배치번호  마감일  ActionItem\\n전체 대비 완료 갯수  제품명                  불만발생일   수량  불만클래스        불만정도      불만접수일     불만빈도  조사담당자의견              결론  고객요구사항             비고      NaN             NaN  NaN    NaN          NaN       NaN  NaN             NaN          NaN          NaN          NaN  DB화에 필요한 정보들 각 항목별로 기재해주세요\n",
      "1  부적합  ▶  상태         NaN  일탈번호  제목  현재단계  QA 검토자  최종완료일  작성일  작성자  발생부서  제품  자재코드  DI체크여부  LINE ID  설비ID  ROOM번호  배치번호  마감일  ActionItem\\n전체 대비 완료 갯수  발생일                   자재유형  공급자    저장소   다음에 의해 잠김  기타 부적합 유형    자재 유형    제품 설명  T4_추적 및 트랜드 참고   근본 원인  부적합품 후속 처리 계획  조사 세부사항  T5_추적 및 트랜드 참고   사유  완료 요약  후속 조치 유형 기타  후속 조치 유형   설명  T7_추적 및 트랜드 참고  후속 조치 완료 여부          NaN          NaN                         NaN\n",
      "2    공통항목  상태         NaN    번호  제목  현재단계  QA 검토자  최종완료일  작성일  작성자  발생부서  제품  자재코드  DI체크여부  LINE ID  설비ID  ROOM번호  배치번호  마감일  ActionItem\\n전체 대비 완료 갯수  NaN                    NaN  NaN    NaN         NaN        NaN      NaN      NaN             NaN     NaN            NaN      NaN             NaN  NaN    NaN          NaN       NaN  NaN             NaN          NaN          NaN          NaN                         NaN\n",
      "Sheet name: Sheet1\n",
      "    일탈항목▶  상태  Unnamed: 2  일탈번호  제목  현재단계  QA 검토자  최종완료일  작성일  작성자  발생부서  제품  자재코드  DI체크여부  LINE ID  설비ID  ROOM번호  배치번호  마감일  ActionItem\\n전체 대비 완료 갯수 일탈등급 Action Item Task Owner 일탈기준   일탈내용 IssueReview       기타원인 기타조사세부사항    원자재결함         원자재결함내용   작업자오류        작업자오류내용     장비결함          장비결함내용 절차결함 절차결함내용       제품영향평가  제품영향남아있음 초기원인             승인일  Unnamed: 39  Unnamed: 40  Unnamed: 41                 Unnamed: 42\n",
      "0   고객불만▶  상태         NaN  일탈번호  제목  현재단계  QA 검토자  최종완료일  작성일  작성자  발생부서  제품  자재코드  DI체크여부  LINE ID  설비ID  ROOM번호  배치번호  마감일  ActionItem\\n전체 대비 완료 갯수  제품명                  불만발생일   수량  불만클래스        불만정도      불만접수일     불만빈도  조사담당자의견              결론  고객요구사항             비고      NaN             NaN  NaN    NaN          NaN       NaN  NaN             NaN          NaN          NaN          NaN  DB화에 필요한 정보들 각 항목별로 기재해주세요\n",
      "1  부적합  ▶  상태         NaN  일탈번호  제목  현재단계  QA 검토자  최종완료일  작성일  작성자  발생부서  제품  자재코드  DI체크여부  LINE ID  설비ID  ROOM번호  배치번호  마감일  ActionItem\\n전체 대비 완료 갯수  발생일                   자재유형  공급자    저장소   다음에 의해 잠김  기타 부적합 유형    자재 유형    제품 설명  T4_추적 및 트랜드 참고   근본 원인  부적합품 후속 처리 계획  조사 세부사항  T5_추적 및 트랜드 참고   사유  완료 요약  후속 조치 유형 기타  후속 조치 유형   설명  T7_추적 및 트랜드 참고  후속 조치 완료 여부          NaN          NaN                         NaN\n",
      "2    공통항목  상태         NaN    번호  제목  현재단계  QA 검토자  최종완료일  작성일  작성자  발생부서  제품  자재코드  DI체크여부  LINE ID  설비ID  ROOM번호  배치번호  마감일  ActionItem\\n전체 대비 완료 갯수  NaN                    NaN  NaN    NaN         NaN        NaN      NaN      NaN             NaN     NaN            NaN      NaN             NaN  NaN    NaN          NaN       NaN  NaN             NaN          NaN          NaN          NaN                         NaN\n",
      "Sheet name: CQM 제안 양식\n",
      "   Unnamed: 0 Unnamed: 1 Unnamed: 2 Unnamed: 3       Unnamed: 4 Unnamed: 5 Unnamed: 6 Unnamed: 7    Unnamed: 8 Unnamed: 9 Unnamed: 10 Unnamed: 11 Unnamed: 12 Unnamed: 13 Unnamed: 14 Unnamed: 15 Unnamed: 16 Unnamed: 17    Unnamed: 18\n",
      "0         NaN        사이트       발생일자      발견 부서  QMS 프로세스 (문서번호)        NaN        NaN        NaN           NaN       자재코드        배치번호         업체명        자재구분       불량 유형       상세 내용      즉시시정조치        근본원인        예방조치  관련 제품\\n(제품코드)\n",
      "1         NaN        NaN        NaN        NaN               일탈        부적합       고객불만       CAPA  Issue Review        NaN         NaN         NaN         NaN         NaN         NaN         NaN         NaN         NaN            NaN\n",
      "Sheet name: Sheet1_QA 추가_JNE\n",
      "    일탈항목▶  상태  Unnamed: 2  일탈번호  제목  현재단계  QA 검토자  최종완료일  작성일  작성자  발생부서  제품  자재코드  DI체크여부  LINE ID  설비ID  ROOM번호  배치번호  마감일  ActionItem\\n전체 대비 완료 갯수 일탈등급 Action Item Task Owner 일탈기준   일탈내용 IssueReview       기타원인 기타조사세부사항    원자재결함         원자재결함내용   작업자오류        작업자오류내용     장비결함          장비결함내용 절차결함 절차결함내용       제품영향평가  제품영향남아있음 초기원인             승인일  Unnamed: 39 Unnamed: 40 Unnamed: 41  표시자재 구분  공급업체  업체 기인 여부  불량 유형\n",
      "0   고객불만▶  상태         NaN  일탈번호  제목  현재단계  QA 검토자  최종완료일  작성일  작성자  발생부서  제품  자재코드  DI체크여부  LINE ID  설비ID  ROOM번호  배치번호  마감일  ActionItem\\n전체 대비 완료 갯수  제품명                  불만발생일   수량  불만클래스        불만정도      불만접수일     불만빈도  조사담당자의견              결론  고객요구사항             비고      NaN             NaN  NaN    NaN          NaN       NaN  NaN             NaN          NaN        자재코드         자재명  표시자재 구분  공급업체  업체 기인 여부  불량 유형\n",
      "1  부적합  ▶  상태         NaN  일탈번호  제목  현재단계  QA 검토자  최종완료일  작성일  작성자  발생부서  제품  자재코드  DI체크여부  LINE ID  설비ID  ROOM번호  배치번호  마감일  ActionItem\\n전체 대비 완료 갯수  발생일                   자재유형  공급자    저장소   다음에 의해 잠김  기타 부적합 유형    자재 유형    제품 설명  T4_추적 및 트랜드 참고   근본 원인  부적합품 후속 처리 계획  조사 세부사항  T5_추적 및 트랜드 참고   사유  완료 요약  후속 조치 유형 기타  후속 조치 유형   설명  T7_추적 및 트랜드 참고  후속 조치 완료 여부         NaN         NaN  표시자재 구분   NaN  업체 기인 여부  불량 유형\n",
      "2    공통항목  상태         NaN    번호  제목  현재단계  QA 검토자  최종완료일  작성일  작성자  발생부서  제품  자재코드  DI체크여부  LINE ID  설비ID  ROOM번호  배치번호  마감일  ActionItem\\n전체 대비 완료 갯수  NaN                    NaN  NaN    NaN         NaN        NaN      NaN      NaN             NaN     NaN            NaN      NaN             NaN  NaN    NaN          NaN       NaN  NaN             NaN          NaN         NaN         NaN      NaN   NaN       NaN    NaN\n",
      "Sheet name: CQM 제안 양식\n",
      "   Unnamed: 0 Unnamed: 1 Unnamed: 2 Unnamed: 3       Unnamed: 4 Unnamed: 5 Unnamed: 6 Unnamed: 7    Unnamed: 8 Unnamed: 9 Unnamed: 10 Unnamed: 11 Unnamed: 12 Unnamed: 13 Unnamed: 14 Unnamed: 15 Unnamed: 16 Unnamed: 17    Unnamed: 18\n",
      "0         NaN        사이트       발생일자      발견 부서  QMS 프로세스 (문서번호)        NaN        NaN        NaN           NaN       자재코드        배치번호         업체명        자재구분       불량 유형       상세 내용      즉시시정조치        근본원인        예방조치  관련 제품\\n(제품코드)\n",
      "1         NaN        NaN        NaN        NaN               일탈        부적합       고객불만       CAPA  Issue Review        NaN         NaN         NaN         NaN         NaN         NaN         NaN         NaN         NaN            NaN\n",
      "Sheet name: QA 제안 양식_JNE\n",
      "   Unnamed: 0 Unnamed: 1 Unnamed: 2 Unnamed: 3       Unnamed: 4 Unnamed: 5 Unnamed: 6    Unnamed: 7 Unnamed: 8 Unnamed: 9 Unnamed: 10 Unnamed: 11 Unnamed: 12 Unnamed: 13 Unnamed: 14 Unnamed: 15 Unnamed: 16 Unnamed: 17 Unnamed: 18    Unnamed: 19 Unnamed: 20\n",
      "0         NaN        사이트       발생일자      발견 부서  QMS 프로세스 (문서번호)        NaN        NaN           NaN        NaN       자재코드         자재명        배치번호         업체명        자재구분       불량 유형       상세 내용      즉시시정조치        근본원인        예방조치  관련 제품\\n(제품코드)    업체 기인 여부\n",
      "1         NaN        NaN        NaN        NaN               일탈        부적합       고객불만  Issue Review       CAPA        NaN         NaN         NaN         NaN         NaN         NaN         NaN         NaN         NaN         NaN            NaN         NaN\n"
     ]
    }
   ],
   "source": [
    "# 각 파일에 대해 모든 시트를 DataFrame으로 읽어와 리스트에 추가\n",
    "all_dfs = []\n",
    "for file_path in file_paths:\n",
    "    with folder.get_download_stream(file_path) as stream:\n",
    "        # 전체 엑셀 파일을 읽어서 모든 시트를 가져옴\n",
    "        excel_sheets = pd.read_excel(io.BytesIO(stream.read()), sheet_name=None)\n",
    "       \n",
    "        # 시트별로 DataFrame을 리스트에 추가\n",
    "        for sheet_name, df in excel_sheets.items():\n",
    "            all_dfs.append((sheet_name, df))\n",
    "\n",
    "# 이제 all_dfs 리스트에는 각 엑셀 파일의 모든 시트의 DataFrame이 저장됨\n",
    "# 필요에 따라 다음과 같이 접근할 수 있음\n",
    "for sheet_name, df in all_dfs:\n",
    "    print(f\"Sheet name: {sheet_name}\")\n",
    "    print(df.head(3))  # 각 시트의 상위 5개 행을 출력"
   ]
  }
 ],
 "metadata": {
  "createdOn": 1724902697137,
  "creator": "heuiy",
  "customFields": {},
  "hide_input": false,
  "kernelspec": {
   "display_name": "Python in CPU-1C-8G (env LGC_CDS_PY38)",
   "language": "python",
   "name": "py-dku-containerized-venv-lgc_cds_py38-cpu-1c-8g"
  },
  "language_info": {
   "codemirror_mode": {
    "name": "ipython",
    "version": 3
   },
   "file_extension": ".py",
   "mimetype": "text/x-python",
   "name": "python",
   "nbconvert_exporter": "python",
   "pygments_lexer": "ipython3",
   "version": "3.8.17"
  },
  "modifiedBy": "heuiy",
  "tags": []
 },
 "nbformat": 4,
 "nbformat_minor": 1
}
